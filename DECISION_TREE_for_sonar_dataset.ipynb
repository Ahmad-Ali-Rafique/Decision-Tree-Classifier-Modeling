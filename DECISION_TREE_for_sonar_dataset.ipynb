{
  "nbformat": 4,
  "nbformat_minor": 0,
  "metadata": {
    "colab": {
      "provenance": []
    },
    "kernelspec": {
      "name": "python3",
      "display_name": "Python 3"
    }
  },
  "cells": [
    {
      "cell_type": "markdown",
      "metadata": {
        "id": "view-in-github"
      },
      "source": [
        "<a href=\"https://colab.research.google.com/github/dphi-official/Micro-Courses/blob/master/Supervised_Algorithms_Classification/Exercises/DecisionTreeClassifier_Exercise.ipynb\" target=\"_parent\"><img src=\"https://colab.research.google.com/assets/colab-badge.svg\" alt=\"Open In Colab\"/></a>"
      ]
    },
    {
      "cell_type": "markdown",
      "source": [
        "#**DECISION TREE MODEL** for sonar dataset"
      ],
      "metadata": {
        "id": "auW7-7f9FOnM"
      }
    },
    {
      "cell_type": "markdown",
      "metadata": {
        "id": "uIRCUn6y4xh8"
      },
      "source": [
        "## Tasks\n",
        "1. Load the data from https://raw.githubusercontent.com/dphi-official/Datasets/master/sonar.csv\n",
        "2. Create a Decision Tree Classifier on the data and train it\n",
        "3. Tweak the parameters(like no. of trees) to improve model performance\n",
        "4. Visualise the Decision Tree created by plotting it"
      ]
    },
    {
      "cell_type": "code",
      "source": [
        "import pandas as pd"
      ],
      "metadata": {
        "id": "cG41U6xFrpJp"
      },
      "execution_count": 1,
      "outputs": []
    },
    {
      "cell_type": "markdown",
      "source": [
        "1. Load the data from https://raw.githubusercontent.com/dphi-official/Datasets/master/sonar.csv"
      ],
      "metadata": {
        "id": "S9zOu4AT_2jm"
      }
    },
    {
      "cell_type": "code",
      "source": [
        "full_data=pd.read_csv('https://raw.githubusercontent.com/dphi-official/Datasets/master/sonar.csv')"
      ],
      "metadata": {
        "id": "RzCTRxnwrHzy"
      },
      "execution_count": 2,
      "outputs": []
    },
    {
      "cell_type": "code",
      "source": [
        "full_data.head()"
      ],
      "metadata": {
        "colab": {
          "base_uri": "https://localhost:8080/",
          "height": 256
        },
        "id": "N13A6xkXrvhn",
        "outputId": "a859cecd-05e0-45e5-f563-5c392b8cd8d6"
      },
      "execution_count": 3,
      "outputs": [
        {
          "output_type": "execute_result",
          "data": {
            "text/plain": [
              "   attribute_1  attribute_2  attribute_3  attribute_4  attribute_5  \\\n",
              "0       0.0200       0.0371       0.0428       0.0207       0.0954   \n",
              "1       0.0453       0.0523       0.0843       0.0689       0.1183   \n",
              "2       0.0262       0.0582       0.1099       0.1083       0.0974   \n",
              "3       0.0100       0.0171       0.0623       0.0205       0.0205   \n",
              "4       0.0762       0.0666       0.0481       0.0394       0.0590   \n",
              "\n",
              "   attribute_6  attribute_7  attribute_8  attribute_9  attribute_10  ...  \\\n",
              "0       0.0986       0.1539       0.1601       0.3109        0.2111  ...   \n",
              "1       0.2583       0.2156       0.3481       0.3337        0.2872  ...   \n",
              "2       0.2280       0.2431       0.3771       0.5598        0.6194  ...   \n",
              "3       0.0368       0.1098       0.1276       0.0598        0.1264  ...   \n",
              "4       0.0649       0.1209       0.2467       0.3564        0.4459  ...   \n",
              "\n",
              "   attribute_52  attribute_53  attribute_54  attribute_55  attribute_56  \\\n",
              "0        0.0027        0.0065        0.0159        0.0072        0.0167   \n",
              "1        0.0084        0.0089        0.0048        0.0094        0.0191   \n",
              "2        0.0232        0.0166        0.0095        0.0180        0.0244   \n",
              "3        0.0121        0.0036        0.0150        0.0085        0.0073   \n",
              "4        0.0031        0.0054        0.0105        0.0110        0.0015   \n",
              "\n",
              "   attribute_57  attribute_58  attribute_59  attribute_60  Class  \n",
              "0        0.0180        0.0084        0.0090        0.0032   Rock  \n",
              "1        0.0140        0.0049        0.0052        0.0044   Rock  \n",
              "2        0.0316        0.0164        0.0095        0.0078   Rock  \n",
              "3        0.0050        0.0044        0.0040        0.0117   Rock  \n",
              "4        0.0072        0.0048        0.0107        0.0094   Rock  \n",
              "\n",
              "[5 rows x 61 columns]"
            ],
            "text/html": [
              "\n",
              "  <div id=\"df-270e9174-2d57-4669-b184-788f48260af7\" class=\"colab-df-container\">\n",
              "    <div>\n",
              "<style scoped>\n",
              "    .dataframe tbody tr th:only-of-type {\n",
              "        vertical-align: middle;\n",
              "    }\n",
              "\n",
              "    .dataframe tbody tr th {\n",
              "        vertical-align: top;\n",
              "    }\n",
              "\n",
              "    .dataframe thead th {\n",
              "        text-align: right;\n",
              "    }\n",
              "</style>\n",
              "<table border=\"1\" class=\"dataframe\">\n",
              "  <thead>\n",
              "    <tr style=\"text-align: right;\">\n",
              "      <th></th>\n",
              "      <th>attribute_1</th>\n",
              "      <th>attribute_2</th>\n",
              "      <th>attribute_3</th>\n",
              "      <th>attribute_4</th>\n",
              "      <th>attribute_5</th>\n",
              "      <th>attribute_6</th>\n",
              "      <th>attribute_7</th>\n",
              "      <th>attribute_8</th>\n",
              "      <th>attribute_9</th>\n",
              "      <th>attribute_10</th>\n",
              "      <th>...</th>\n",
              "      <th>attribute_52</th>\n",
              "      <th>attribute_53</th>\n",
              "      <th>attribute_54</th>\n",
              "      <th>attribute_55</th>\n",
              "      <th>attribute_56</th>\n",
              "      <th>attribute_57</th>\n",
              "      <th>attribute_58</th>\n",
              "      <th>attribute_59</th>\n",
              "      <th>attribute_60</th>\n",
              "      <th>Class</th>\n",
              "    </tr>\n",
              "  </thead>\n",
              "  <tbody>\n",
              "    <tr>\n",
              "      <th>0</th>\n",
              "      <td>0.0200</td>\n",
              "      <td>0.0371</td>\n",
              "      <td>0.0428</td>\n",
              "      <td>0.0207</td>\n",
              "      <td>0.0954</td>\n",
              "      <td>0.0986</td>\n",
              "      <td>0.1539</td>\n",
              "      <td>0.1601</td>\n",
              "      <td>0.3109</td>\n",
              "      <td>0.2111</td>\n",
              "      <td>...</td>\n",
              "      <td>0.0027</td>\n",
              "      <td>0.0065</td>\n",
              "      <td>0.0159</td>\n",
              "      <td>0.0072</td>\n",
              "      <td>0.0167</td>\n",
              "      <td>0.0180</td>\n",
              "      <td>0.0084</td>\n",
              "      <td>0.0090</td>\n",
              "      <td>0.0032</td>\n",
              "      <td>Rock</td>\n",
              "    </tr>\n",
              "    <tr>\n",
              "      <th>1</th>\n",
              "      <td>0.0453</td>\n",
              "      <td>0.0523</td>\n",
              "      <td>0.0843</td>\n",
              "      <td>0.0689</td>\n",
              "      <td>0.1183</td>\n",
              "      <td>0.2583</td>\n",
              "      <td>0.2156</td>\n",
              "      <td>0.3481</td>\n",
              "      <td>0.3337</td>\n",
              "      <td>0.2872</td>\n",
              "      <td>...</td>\n",
              "      <td>0.0084</td>\n",
              "      <td>0.0089</td>\n",
              "      <td>0.0048</td>\n",
              "      <td>0.0094</td>\n",
              "      <td>0.0191</td>\n",
              "      <td>0.0140</td>\n",
              "      <td>0.0049</td>\n",
              "      <td>0.0052</td>\n",
              "      <td>0.0044</td>\n",
              "      <td>Rock</td>\n",
              "    </tr>\n",
              "    <tr>\n",
              "      <th>2</th>\n",
              "      <td>0.0262</td>\n",
              "      <td>0.0582</td>\n",
              "      <td>0.1099</td>\n",
              "      <td>0.1083</td>\n",
              "      <td>0.0974</td>\n",
              "      <td>0.2280</td>\n",
              "      <td>0.2431</td>\n",
              "      <td>0.3771</td>\n",
              "      <td>0.5598</td>\n",
              "      <td>0.6194</td>\n",
              "      <td>...</td>\n",
              "      <td>0.0232</td>\n",
              "      <td>0.0166</td>\n",
              "      <td>0.0095</td>\n",
              "      <td>0.0180</td>\n",
              "      <td>0.0244</td>\n",
              "      <td>0.0316</td>\n",
              "      <td>0.0164</td>\n",
              "      <td>0.0095</td>\n",
              "      <td>0.0078</td>\n",
              "      <td>Rock</td>\n",
              "    </tr>\n",
              "    <tr>\n",
              "      <th>3</th>\n",
              "      <td>0.0100</td>\n",
              "      <td>0.0171</td>\n",
              "      <td>0.0623</td>\n",
              "      <td>0.0205</td>\n",
              "      <td>0.0205</td>\n",
              "      <td>0.0368</td>\n",
              "      <td>0.1098</td>\n",
              "      <td>0.1276</td>\n",
              "      <td>0.0598</td>\n",
              "      <td>0.1264</td>\n",
              "      <td>...</td>\n",
              "      <td>0.0121</td>\n",
              "      <td>0.0036</td>\n",
              "      <td>0.0150</td>\n",
              "      <td>0.0085</td>\n",
              "      <td>0.0073</td>\n",
              "      <td>0.0050</td>\n",
              "      <td>0.0044</td>\n",
              "      <td>0.0040</td>\n",
              "      <td>0.0117</td>\n",
              "      <td>Rock</td>\n",
              "    </tr>\n",
              "    <tr>\n",
              "      <th>4</th>\n",
              "      <td>0.0762</td>\n",
              "      <td>0.0666</td>\n",
              "      <td>0.0481</td>\n",
              "      <td>0.0394</td>\n",
              "      <td>0.0590</td>\n",
              "      <td>0.0649</td>\n",
              "      <td>0.1209</td>\n",
              "      <td>0.2467</td>\n",
              "      <td>0.3564</td>\n",
              "      <td>0.4459</td>\n",
              "      <td>...</td>\n",
              "      <td>0.0031</td>\n",
              "      <td>0.0054</td>\n",
              "      <td>0.0105</td>\n",
              "      <td>0.0110</td>\n",
              "      <td>0.0015</td>\n",
              "      <td>0.0072</td>\n",
              "      <td>0.0048</td>\n",
              "      <td>0.0107</td>\n",
              "      <td>0.0094</td>\n",
              "      <td>Rock</td>\n",
              "    </tr>\n",
              "  </tbody>\n",
              "</table>\n",
              "<p>5 rows × 61 columns</p>\n",
              "</div>\n",
              "    <div class=\"colab-df-buttons\">\n",
              "\n",
              "  <div class=\"colab-df-container\">\n",
              "    <button class=\"colab-df-convert\" onclick=\"convertToInteractive('df-270e9174-2d57-4669-b184-788f48260af7')\"\n",
              "            title=\"Convert this dataframe to an interactive table.\"\n",
              "            style=\"display:none;\">\n",
              "\n",
              "  <svg xmlns=\"http://www.w3.org/2000/svg\" height=\"24px\" viewBox=\"0 -960 960 960\">\n",
              "    <path d=\"M120-120v-720h720v720H120Zm60-500h600v-160H180v160Zm220 220h160v-160H400v160Zm0 220h160v-160H400v160ZM180-400h160v-160H180v160Zm440 0h160v-160H620v160ZM180-180h160v-160H180v160Zm440 0h160v-160H620v160Z\"/>\n",
              "  </svg>\n",
              "    </button>\n",
              "\n",
              "  <style>\n",
              "    .colab-df-container {\n",
              "      display:flex;\n",
              "      gap: 12px;\n",
              "    }\n",
              "\n",
              "    .colab-df-convert {\n",
              "      background-color: #E8F0FE;\n",
              "      border: none;\n",
              "      border-radius: 50%;\n",
              "      cursor: pointer;\n",
              "      display: none;\n",
              "      fill: #1967D2;\n",
              "      height: 32px;\n",
              "      padding: 0 0 0 0;\n",
              "      width: 32px;\n",
              "    }\n",
              "\n",
              "    .colab-df-convert:hover {\n",
              "      background-color: #E2EBFA;\n",
              "      box-shadow: 0px 1px 2px rgba(60, 64, 67, 0.3), 0px 1px 3px 1px rgba(60, 64, 67, 0.15);\n",
              "      fill: #174EA6;\n",
              "    }\n",
              "\n",
              "    .colab-df-buttons div {\n",
              "      margin-bottom: 4px;\n",
              "    }\n",
              "\n",
              "    [theme=dark] .colab-df-convert {\n",
              "      background-color: #3B4455;\n",
              "      fill: #D2E3FC;\n",
              "    }\n",
              "\n",
              "    [theme=dark] .colab-df-convert:hover {\n",
              "      background-color: #434B5C;\n",
              "      box-shadow: 0px 1px 3px 1px rgba(0, 0, 0, 0.15);\n",
              "      filter: drop-shadow(0px 1px 2px rgba(0, 0, 0, 0.3));\n",
              "      fill: #FFFFFF;\n",
              "    }\n",
              "  </style>\n",
              "\n",
              "    <script>\n",
              "      const buttonEl =\n",
              "        document.querySelector('#df-270e9174-2d57-4669-b184-788f48260af7 button.colab-df-convert');\n",
              "      buttonEl.style.display =\n",
              "        google.colab.kernel.accessAllowed ? 'block' : 'none';\n",
              "\n",
              "      async function convertToInteractive(key) {\n",
              "        const element = document.querySelector('#df-270e9174-2d57-4669-b184-788f48260af7');\n",
              "        const dataTable =\n",
              "          await google.colab.kernel.invokeFunction('convertToInteractive',\n",
              "                                                    [key], {});\n",
              "        if (!dataTable) return;\n",
              "\n",
              "        const docLinkHtml = 'Like what you see? Visit the ' +\n",
              "          '<a target=\"_blank\" href=https://colab.research.google.com/notebooks/data_table.ipynb>data table notebook</a>'\n",
              "          + ' to learn more about interactive tables.';\n",
              "        element.innerHTML = '';\n",
              "        dataTable['output_type'] = 'display_data';\n",
              "        await google.colab.output.renderOutput(dataTable, element);\n",
              "        const docLink = document.createElement('div');\n",
              "        docLink.innerHTML = docLinkHtml;\n",
              "        element.appendChild(docLink);\n",
              "      }\n",
              "    </script>\n",
              "  </div>\n",
              "\n",
              "\n",
              "<div id=\"df-6b0493c6-2ebe-4985-ac07-be33f5c52139\">\n",
              "  <button class=\"colab-df-quickchart\" onclick=\"quickchart('df-6b0493c6-2ebe-4985-ac07-be33f5c52139')\"\n",
              "            title=\"Suggest charts\"\n",
              "            style=\"display:none;\">\n",
              "\n",
              "<svg xmlns=\"http://www.w3.org/2000/svg\" height=\"24px\"viewBox=\"0 0 24 24\"\n",
              "     width=\"24px\">\n",
              "    <g>\n",
              "        <path d=\"M19 3H5c-1.1 0-2 .9-2 2v14c0 1.1.9 2 2 2h14c1.1 0 2-.9 2-2V5c0-1.1-.9-2-2-2zM9 17H7v-7h2v7zm4 0h-2V7h2v10zm4 0h-2v-4h2v4z\"/>\n",
              "    </g>\n",
              "</svg>\n",
              "  </button>\n",
              "\n",
              "<style>\n",
              "  .colab-df-quickchart {\n",
              "      --bg-color: #E8F0FE;\n",
              "      --fill-color: #1967D2;\n",
              "      --hover-bg-color: #E2EBFA;\n",
              "      --hover-fill-color: #174EA6;\n",
              "      --disabled-fill-color: #AAA;\n",
              "      --disabled-bg-color: #DDD;\n",
              "  }\n",
              "\n",
              "  [theme=dark] .colab-df-quickchart {\n",
              "      --bg-color: #3B4455;\n",
              "      --fill-color: #D2E3FC;\n",
              "      --hover-bg-color: #434B5C;\n",
              "      --hover-fill-color: #FFFFFF;\n",
              "      --disabled-bg-color: #3B4455;\n",
              "      --disabled-fill-color: #666;\n",
              "  }\n",
              "\n",
              "  .colab-df-quickchart {\n",
              "    background-color: var(--bg-color);\n",
              "    border: none;\n",
              "    border-radius: 50%;\n",
              "    cursor: pointer;\n",
              "    display: none;\n",
              "    fill: var(--fill-color);\n",
              "    height: 32px;\n",
              "    padding: 0;\n",
              "    width: 32px;\n",
              "  }\n",
              "\n",
              "  .colab-df-quickchart:hover {\n",
              "    background-color: var(--hover-bg-color);\n",
              "    box-shadow: 0 1px 2px rgba(60, 64, 67, 0.3), 0 1px 3px 1px rgba(60, 64, 67, 0.15);\n",
              "    fill: var(--button-hover-fill-color);\n",
              "  }\n",
              "\n",
              "  .colab-df-quickchart-complete:disabled,\n",
              "  .colab-df-quickchart-complete:disabled:hover {\n",
              "    background-color: var(--disabled-bg-color);\n",
              "    fill: var(--disabled-fill-color);\n",
              "    box-shadow: none;\n",
              "  }\n",
              "\n",
              "  .colab-df-spinner {\n",
              "    border: 2px solid var(--fill-color);\n",
              "    border-color: transparent;\n",
              "    border-bottom-color: var(--fill-color);\n",
              "    animation:\n",
              "      spin 1s steps(1) infinite;\n",
              "  }\n",
              "\n",
              "  @keyframes spin {\n",
              "    0% {\n",
              "      border-color: transparent;\n",
              "      border-bottom-color: var(--fill-color);\n",
              "      border-left-color: var(--fill-color);\n",
              "    }\n",
              "    20% {\n",
              "      border-color: transparent;\n",
              "      border-left-color: var(--fill-color);\n",
              "      border-top-color: var(--fill-color);\n",
              "    }\n",
              "    30% {\n",
              "      border-color: transparent;\n",
              "      border-left-color: var(--fill-color);\n",
              "      border-top-color: var(--fill-color);\n",
              "      border-right-color: var(--fill-color);\n",
              "    }\n",
              "    40% {\n",
              "      border-color: transparent;\n",
              "      border-right-color: var(--fill-color);\n",
              "      border-top-color: var(--fill-color);\n",
              "    }\n",
              "    60% {\n",
              "      border-color: transparent;\n",
              "      border-right-color: var(--fill-color);\n",
              "    }\n",
              "    80% {\n",
              "      border-color: transparent;\n",
              "      border-right-color: var(--fill-color);\n",
              "      border-bottom-color: var(--fill-color);\n",
              "    }\n",
              "    90% {\n",
              "      border-color: transparent;\n",
              "      border-bottom-color: var(--fill-color);\n",
              "    }\n",
              "  }\n",
              "</style>\n",
              "\n",
              "  <script>\n",
              "    async function quickchart(key) {\n",
              "      const quickchartButtonEl =\n",
              "        document.querySelector('#' + key + ' button');\n",
              "      quickchartButtonEl.disabled = true;  // To prevent multiple clicks.\n",
              "      quickchartButtonEl.classList.add('colab-df-spinner');\n",
              "      try {\n",
              "        const charts = await google.colab.kernel.invokeFunction(\n",
              "            'suggestCharts', [key], {});\n",
              "      } catch (error) {\n",
              "        console.error('Error during call to suggestCharts:', error);\n",
              "      }\n",
              "      quickchartButtonEl.classList.remove('colab-df-spinner');\n",
              "      quickchartButtonEl.classList.add('colab-df-quickchart-complete');\n",
              "    }\n",
              "    (() => {\n",
              "      let quickchartButtonEl =\n",
              "        document.querySelector('#df-6b0493c6-2ebe-4985-ac07-be33f5c52139 button');\n",
              "      quickchartButtonEl.style.display =\n",
              "        google.colab.kernel.accessAllowed ? 'block' : 'none';\n",
              "    })();\n",
              "  </script>\n",
              "</div>\n",
              "\n",
              "    </div>\n",
              "  </div>\n"
            ],
            "application/vnd.google.colaboratory.intrinsic+json": {
              "type": "dataframe",
              "variable_name": "full_data"
            }
          },
          "metadata": {},
          "execution_count": 3
        }
      ]
    },
    {
      "cell_type": "code",
      "source": [
        "full_data['Class'].value_counts(normalize = True)*100"
      ],
      "metadata": {
        "colab": {
          "base_uri": "https://localhost:8080/"
        },
        "id": "vKzoCKQkr6Fd",
        "outputId": "2d1285aa-a6f9-4a07-afcb-f2fab644430f"
      },
      "execution_count": 4,
      "outputs": [
        {
          "output_type": "execute_result",
          "data": {
            "text/plain": [
              "Class\n",
              "Mine    53.365385\n",
              "Rock    46.634615\n",
              "Name: proportion, dtype: float64"
            ]
          },
          "metadata": {},
          "execution_count": 4
        }
      ]
    },
    {
      "cell_type": "markdown",
      "source": [
        "2. Create a Decision Tree Classifier on the data and train it\n"
      ],
      "metadata": {
        "id": "u3G4LDBQ_5gq"
      }
    },
    {
      "cell_type": "code",
      "source": [
        "X=full_data.drop('Class', axis = 1)"
      ],
      "metadata": {
        "id": "zuWzO-N1sltQ"
      },
      "execution_count": 5,
      "outputs": []
    },
    {
      "cell_type": "code",
      "source": [
        "Y=full_data['Class']"
      ],
      "metadata": {
        "id": "xK2GpBHKs5QC"
      },
      "execution_count": 6,
      "outputs": []
    },
    {
      "cell_type": "code",
      "source": [
        "from sklearn.model_selection import train_test_split\n",
        "X_train, X_test, Y_train, Y_test = train_test_split(X, Y, test_size=0.33, random_state=101)"
      ],
      "metadata": {
        "id": "aHazF1WmteZ5"
      },
      "execution_count": 7,
      "outputs": []
    },
    {
      "cell_type": "code",
      "source": [
        "from sklearn.tree import DecisionTreeClassifier\n",
        "print('Decision Tree Classifier')\n",
        "Dtree = DecisionTreeClassifier()\n",
        "Dtree.fit(X_train, Y_train)"
      ],
      "metadata": {
        "colab": {
          "base_uri": "https://localhost:8080/",
          "height": 92
        },
        "id": "x_QheGYvsM0E",
        "outputId": "d434ad4a-0872-412e-b1dc-aba170c6e5e3"
      },
      "execution_count": 8,
      "outputs": [
        {
          "output_type": "stream",
          "name": "stdout",
          "text": [
            "Decision Tree Classifier\n"
          ]
        },
        {
          "output_type": "execute_result",
          "data": {
            "text/plain": [
              "DecisionTreeClassifier()"
            ],
            "text/html": [
              "<style>#sk-container-id-1 {color: black;background-color: white;}#sk-container-id-1 pre{padding: 0;}#sk-container-id-1 div.sk-toggleable {background-color: white;}#sk-container-id-1 label.sk-toggleable__label {cursor: pointer;display: block;width: 100%;margin-bottom: 0;padding: 0.3em;box-sizing: border-box;text-align: center;}#sk-container-id-1 label.sk-toggleable__label-arrow:before {content: \"▸\";float: left;margin-right: 0.25em;color: #696969;}#sk-container-id-1 label.sk-toggleable__label-arrow:hover:before {color: black;}#sk-container-id-1 div.sk-estimator:hover label.sk-toggleable__label-arrow:before {color: black;}#sk-container-id-1 div.sk-toggleable__content {max-height: 0;max-width: 0;overflow: hidden;text-align: left;background-color: #f0f8ff;}#sk-container-id-1 div.sk-toggleable__content pre {margin: 0.2em;color: black;border-radius: 0.25em;background-color: #f0f8ff;}#sk-container-id-1 input.sk-toggleable__control:checked~div.sk-toggleable__content {max-height: 200px;max-width: 100%;overflow: auto;}#sk-container-id-1 input.sk-toggleable__control:checked~label.sk-toggleable__label-arrow:before {content: \"▾\";}#sk-container-id-1 div.sk-estimator input.sk-toggleable__control:checked~label.sk-toggleable__label {background-color: #d4ebff;}#sk-container-id-1 div.sk-label input.sk-toggleable__control:checked~label.sk-toggleable__label {background-color: #d4ebff;}#sk-container-id-1 input.sk-hidden--visually {border: 0;clip: rect(1px 1px 1px 1px);clip: rect(1px, 1px, 1px, 1px);height: 1px;margin: -1px;overflow: hidden;padding: 0;position: absolute;width: 1px;}#sk-container-id-1 div.sk-estimator {font-family: monospace;background-color: #f0f8ff;border: 1px dotted black;border-radius: 0.25em;box-sizing: border-box;margin-bottom: 0.5em;}#sk-container-id-1 div.sk-estimator:hover {background-color: #d4ebff;}#sk-container-id-1 div.sk-parallel-item::after {content: \"\";width: 100%;border-bottom: 1px solid gray;flex-grow: 1;}#sk-container-id-1 div.sk-label:hover label.sk-toggleable__label {background-color: #d4ebff;}#sk-container-id-1 div.sk-serial::before {content: \"\";position: absolute;border-left: 1px solid gray;box-sizing: border-box;top: 0;bottom: 0;left: 50%;z-index: 0;}#sk-container-id-1 div.sk-serial {display: flex;flex-direction: column;align-items: center;background-color: white;padding-right: 0.2em;padding-left: 0.2em;position: relative;}#sk-container-id-1 div.sk-item {position: relative;z-index: 1;}#sk-container-id-1 div.sk-parallel {display: flex;align-items: stretch;justify-content: center;background-color: white;position: relative;}#sk-container-id-1 div.sk-item::before, #sk-container-id-1 div.sk-parallel-item::before {content: \"\";position: absolute;border-left: 1px solid gray;box-sizing: border-box;top: 0;bottom: 0;left: 50%;z-index: -1;}#sk-container-id-1 div.sk-parallel-item {display: flex;flex-direction: column;z-index: 1;position: relative;background-color: white;}#sk-container-id-1 div.sk-parallel-item:first-child::after {align-self: flex-end;width: 50%;}#sk-container-id-1 div.sk-parallel-item:last-child::after {align-self: flex-start;width: 50%;}#sk-container-id-1 div.sk-parallel-item:only-child::after {width: 0;}#sk-container-id-1 div.sk-dashed-wrapped {border: 1px dashed gray;margin: 0 0.4em 0.5em 0.4em;box-sizing: border-box;padding-bottom: 0.4em;background-color: white;}#sk-container-id-1 div.sk-label label {font-family: monospace;font-weight: bold;display: inline-block;line-height: 1.2em;}#sk-container-id-1 div.sk-label-container {text-align: center;}#sk-container-id-1 div.sk-container {/* jupyter's `normalize.less` sets `[hidden] { display: none; }` but bootstrap.min.css set `[hidden] { display: none !important; }` so we also need the `!important` here to be able to override the default hidden behavior on the sphinx rendered scikit-learn.org. See: https://github.com/scikit-learn/scikit-learn/issues/21755 */display: inline-block !important;position: relative;}#sk-container-id-1 div.sk-text-repr-fallback {display: none;}</style><div id=\"sk-container-id-1\" class=\"sk-top-container\"><div class=\"sk-text-repr-fallback\"><pre>DecisionTreeClassifier()</pre><b>In a Jupyter environment, please rerun this cell to show the HTML representation or trust the notebook. <br />On GitHub, the HTML representation is unable to render, please try loading this page with nbviewer.org.</b></div><div class=\"sk-container\" hidden><div class=\"sk-item\"><div class=\"sk-estimator sk-toggleable\"><input class=\"sk-toggleable__control sk-hidden--visually\" id=\"sk-estimator-id-1\" type=\"checkbox\" checked><label for=\"sk-estimator-id-1\" class=\"sk-toggleable__label sk-toggleable__label-arrow\">DecisionTreeClassifier</label><div class=\"sk-toggleable__content\"><pre>DecisionTreeClassifier()</pre></div></div></div></div></div>"
            ]
          },
          "metadata": {},
          "execution_count": 8
        }
      ]
    },
    {
      "cell_type": "markdown",
      "source": [
        "3. Tweak the parameters(like no. of trees) to improve model performance"
      ],
      "metadata": {
        "id": "3-jtZ9zyFIP0"
      }
    },
    {
      "cell_type": "code",
      "source": [
        "model_improved = DecisionTreeClassifier(max_depth=3)\n",
        "model_improved.fit(X_train, Y_train)"
      ],
      "metadata": {
        "colab": {
          "base_uri": "https://localhost:8080/",
          "height": 75
        },
        "id": "aVezQruVwXrA",
        "outputId": "3a748622-f206-48ef-eb64-02068bb08f6c"
      },
      "execution_count": 21,
      "outputs": [
        {
          "output_type": "execute_result",
          "data": {
            "text/plain": [
              "DecisionTreeClassifier(max_depth=3)"
            ],
            "text/html": [
              "<style>#sk-container-id-2 {color: black;background-color: white;}#sk-container-id-2 pre{padding: 0;}#sk-container-id-2 div.sk-toggleable {background-color: white;}#sk-container-id-2 label.sk-toggleable__label {cursor: pointer;display: block;width: 100%;margin-bottom: 0;padding: 0.3em;box-sizing: border-box;text-align: center;}#sk-container-id-2 label.sk-toggleable__label-arrow:before {content: \"▸\";float: left;margin-right: 0.25em;color: #696969;}#sk-container-id-2 label.sk-toggleable__label-arrow:hover:before {color: black;}#sk-container-id-2 div.sk-estimator:hover label.sk-toggleable__label-arrow:before {color: black;}#sk-container-id-2 div.sk-toggleable__content {max-height: 0;max-width: 0;overflow: hidden;text-align: left;background-color: #f0f8ff;}#sk-container-id-2 div.sk-toggleable__content pre {margin: 0.2em;color: black;border-radius: 0.25em;background-color: #f0f8ff;}#sk-container-id-2 input.sk-toggleable__control:checked~div.sk-toggleable__content {max-height: 200px;max-width: 100%;overflow: auto;}#sk-container-id-2 input.sk-toggleable__control:checked~label.sk-toggleable__label-arrow:before {content: \"▾\";}#sk-container-id-2 div.sk-estimator input.sk-toggleable__control:checked~label.sk-toggleable__label {background-color: #d4ebff;}#sk-container-id-2 div.sk-label input.sk-toggleable__control:checked~label.sk-toggleable__label {background-color: #d4ebff;}#sk-container-id-2 input.sk-hidden--visually {border: 0;clip: rect(1px 1px 1px 1px);clip: rect(1px, 1px, 1px, 1px);height: 1px;margin: -1px;overflow: hidden;padding: 0;position: absolute;width: 1px;}#sk-container-id-2 div.sk-estimator {font-family: monospace;background-color: #f0f8ff;border: 1px dotted black;border-radius: 0.25em;box-sizing: border-box;margin-bottom: 0.5em;}#sk-container-id-2 div.sk-estimator:hover {background-color: #d4ebff;}#sk-container-id-2 div.sk-parallel-item::after {content: \"\";width: 100%;border-bottom: 1px solid gray;flex-grow: 1;}#sk-container-id-2 div.sk-label:hover label.sk-toggleable__label {background-color: #d4ebff;}#sk-container-id-2 div.sk-serial::before {content: \"\";position: absolute;border-left: 1px solid gray;box-sizing: border-box;top: 0;bottom: 0;left: 50%;z-index: 0;}#sk-container-id-2 div.sk-serial {display: flex;flex-direction: column;align-items: center;background-color: white;padding-right: 0.2em;padding-left: 0.2em;position: relative;}#sk-container-id-2 div.sk-item {position: relative;z-index: 1;}#sk-container-id-2 div.sk-parallel {display: flex;align-items: stretch;justify-content: center;background-color: white;position: relative;}#sk-container-id-2 div.sk-item::before, #sk-container-id-2 div.sk-parallel-item::before {content: \"\";position: absolute;border-left: 1px solid gray;box-sizing: border-box;top: 0;bottom: 0;left: 50%;z-index: -1;}#sk-container-id-2 div.sk-parallel-item {display: flex;flex-direction: column;z-index: 1;position: relative;background-color: white;}#sk-container-id-2 div.sk-parallel-item:first-child::after {align-self: flex-end;width: 50%;}#sk-container-id-2 div.sk-parallel-item:last-child::after {align-self: flex-start;width: 50%;}#sk-container-id-2 div.sk-parallel-item:only-child::after {width: 0;}#sk-container-id-2 div.sk-dashed-wrapped {border: 1px dashed gray;margin: 0 0.4em 0.5em 0.4em;box-sizing: border-box;padding-bottom: 0.4em;background-color: white;}#sk-container-id-2 div.sk-label label {font-family: monospace;font-weight: bold;display: inline-block;line-height: 1.2em;}#sk-container-id-2 div.sk-label-container {text-align: center;}#sk-container-id-2 div.sk-container {/* jupyter's `normalize.less` sets `[hidden] { display: none; }` but bootstrap.min.css set `[hidden] { display: none !important; }` so we also need the `!important` here to be able to override the default hidden behavior on the sphinx rendered scikit-learn.org. See: https://github.com/scikit-learn/scikit-learn/issues/21755 */display: inline-block !important;position: relative;}#sk-container-id-2 div.sk-text-repr-fallback {display: none;}</style><div id=\"sk-container-id-2\" class=\"sk-top-container\"><div class=\"sk-text-repr-fallback\"><pre>DecisionTreeClassifier(max_depth=3)</pre><b>In a Jupyter environment, please rerun this cell to show the HTML representation or trust the notebook. <br />On GitHub, the HTML representation is unable to render, please try loading this page with nbviewer.org.</b></div><div class=\"sk-container\" hidden><div class=\"sk-item\"><div class=\"sk-estimator sk-toggleable\"><input class=\"sk-toggleable__control sk-hidden--visually\" id=\"sk-estimator-id-2\" type=\"checkbox\" checked><label for=\"sk-estimator-id-2\" class=\"sk-toggleable__label sk-toggleable__label-arrow\">DecisionTreeClassifier</label><div class=\"sk-toggleable__content\"><pre>DecisionTreeClassifier(max_depth=3)</pre></div></div></div></div></div>"
            ]
          },
          "metadata": {},
          "execution_count": 21
        }
      ]
    },
    {
      "cell_type": "markdown",
      "source": [
        "4. Visualise the Decision Tree created by plotting it"
      ],
      "metadata": {
        "id": "EGjAAetvFJ_r"
      }
    },
    {
      "cell_type": "code",
      "source": [
        "from sklearn.tree import export_graphviz\n",
        "import graphviz"
      ],
      "metadata": {
        "id": "XIUv5sR8x3rN"
      },
      "execution_count": 27,
      "outputs": []
    },
    {
      "cell_type": "code",
      "source": [
        "dot_data = export_graphviz(Dtree, out_file=None,\n",
        "                           feature_names=X_test.columns,\n",
        "                           class_names=['0', '1'],\n",
        "                           filled=True, rounded=True,\n",
        "                           special_characters=True)"
      ],
      "metadata": {
        "id": "Ftk3lBWFx6Gb"
      },
      "execution_count": 48,
      "outputs": []
    },
    {
      "cell_type": "code",
      "source": [
        "graph1=graphviz.Source(dot_data)"
      ],
      "metadata": {
        "id": "HUkUsLB2yBiA"
      },
      "execution_count": 49,
      "outputs": []
    },
    {
      "cell_type": "code",
      "source": [
        "graph1"
      ],
      "metadata": {
        "colab": {
          "base_uri": "https://localhost:8080/",
          "height": 1000
        },
        "id": "wXjzqk2ZyCgY",
        "outputId": "75559b90-cdc2-45e9-dce3-3f463b205212"
      },
      "execution_count": 50,
      "outputs": [
        {
          "output_type": "execute_result",
          "data": {
            "image/svg+xml": "<?xml version=\"1.0\" encoding=\"UTF-8\" standalone=\"no\"?>\n<!DOCTYPE svg PUBLIC \"-//W3C//DTD SVG 1.1//EN\"\n \"http://www.w3.org/Graphics/SVG/1.1/DTD/svg11.dtd\">\n<!-- Generated by graphviz version 2.43.0 (0)\n -->\n<!-- Title: Tree Pages: 1 -->\n<svg width=\"1216pt\" height=\"790pt\"\n viewBox=\"0.00 0.00 1215.50 790.00\" xmlns=\"http://www.w3.org/2000/svg\" xmlns:xlink=\"http://www.w3.org/1999/xlink\">\n<g id=\"graph0\" class=\"graph\" transform=\"scale(1 1) rotate(0) translate(4 786)\">\n<title>Tree</title>\n<polygon fill=\"white\" stroke=\"transparent\" points=\"-4,4 -4,-786 1211.5,-786 1211.5,4 -4,4\"/>\n<!-- 0 -->\n<g id=\"node1\" class=\"node\">\n<title>0</title>\n<path fill=\"#f9e1cf\" stroke=\"black\" d=\"M585.5,-782C585.5,-782 472.5,-782 472.5,-782 466.5,-782 460.5,-776 460.5,-770 460.5,-770 460.5,-711 460.5,-711 460.5,-705 466.5,-699 472.5,-699 472.5,-699 585.5,-699 585.5,-699 591.5,-699 597.5,-705 597.5,-711 597.5,-711 597.5,-770 597.5,-770 597.5,-776 591.5,-782 585.5,-782\"/>\n<text text-anchor=\"start\" x=\"468.5\" y=\"-766.8\" font-family=\"Helvetica,sans-Serif\" font-size=\"14.00\">attribute_11 ≤ 0.196</text>\n<text text-anchor=\"start\" x=\"493.5\" y=\"-751.8\" font-family=\"Helvetica,sans-Serif\" font-size=\"14.00\">gini = 0.491</text>\n<text text-anchor=\"start\" x=\"484\" y=\"-736.8\" font-family=\"Helvetica,sans-Serif\" font-size=\"14.00\">samples = 139</text>\n<text text-anchor=\"start\" x=\"482\" y=\"-721.8\" font-family=\"Helvetica,sans-Serif\" font-size=\"14.00\">value = [79, 60]</text>\n<text text-anchor=\"start\" x=\"501.5\" y=\"-706.8\" font-family=\"Helvetica,sans-Serif\" font-size=\"14.00\">class = 0</text>\n</g>\n<!-- 1 -->\n<g id=\"node2\" class=\"node\">\n<title>1</title>\n<path fill=\"#80c0ee\" stroke=\"black\" d=\"M506.5,-663C506.5,-663 401.5,-663 401.5,-663 395.5,-663 389.5,-657 389.5,-651 389.5,-651 389.5,-592 389.5,-592 389.5,-586 395.5,-580 401.5,-580 401.5,-580 506.5,-580 506.5,-580 512.5,-580 518.5,-586 518.5,-592 518.5,-592 518.5,-651 518.5,-651 518.5,-657 512.5,-663 506.5,-663\"/>\n<text text-anchor=\"start\" x=\"397.5\" y=\"-647.8\" font-family=\"Helvetica,sans-Serif\" font-size=\"14.00\">attribute_1 ≤ 0.039</text>\n<text text-anchor=\"start\" x=\"418.5\" y=\"-632.8\" font-family=\"Helvetica,sans-Serif\" font-size=\"14.00\">gini = 0.388</text>\n<text text-anchor=\"start\" x=\"413\" y=\"-617.8\" font-family=\"Helvetica,sans-Serif\" font-size=\"14.00\">samples = 57</text>\n<text text-anchor=\"start\" x=\"407\" y=\"-602.8\" font-family=\"Helvetica,sans-Serif\" font-size=\"14.00\">value = [15, 42]</text>\n<text text-anchor=\"start\" x=\"426.5\" y=\"-587.8\" font-family=\"Helvetica,sans-Serif\" font-size=\"14.00\">class = 1</text>\n</g>\n<!-- 0&#45;&gt;1 -->\n<g id=\"edge1\" class=\"edge\">\n<title>0&#45;&gt;1</title>\n<path fill=\"none\" stroke=\"black\" d=\"M502.98,-698.91C497.34,-690.1 491.31,-680.7 485.48,-671.61\"/>\n<polygon fill=\"black\" stroke=\"black\" points=\"488.32,-669.55 479.97,-663.02 482.43,-673.33 488.32,-669.55\"/>\n<text text-anchor=\"middle\" x=\"474.63\" y=\"-683.74\" font-family=\"Helvetica,sans-Serif\" font-size=\"14.00\">True</text>\n</g>\n<!-- 14 -->\n<g id=\"node15\" class=\"node\">\n<title>14</title>\n<path fill=\"#eca471\" stroke=\"black\" d=\"M661.5,-663C661.5,-663 548.5,-663 548.5,-663 542.5,-663 536.5,-657 536.5,-651 536.5,-651 536.5,-592 536.5,-592 536.5,-586 542.5,-580 548.5,-580 548.5,-580 661.5,-580 661.5,-580 667.5,-580 673.5,-586 673.5,-592 673.5,-592 673.5,-651 673.5,-651 673.5,-657 667.5,-663 661.5,-663\"/>\n<text text-anchor=\"start\" x=\"544.5\" y=\"-647.8\" font-family=\"Helvetica,sans-Serif\" font-size=\"14.00\">attribute_39 ≤ 0.102</text>\n<text text-anchor=\"start\" x=\"569.5\" y=\"-632.8\" font-family=\"Helvetica,sans-Serif\" font-size=\"14.00\">gini = 0.343</text>\n<text text-anchor=\"start\" x=\"564\" y=\"-617.8\" font-family=\"Helvetica,sans-Serif\" font-size=\"14.00\">samples = 82</text>\n<text text-anchor=\"start\" x=\"558\" y=\"-602.8\" font-family=\"Helvetica,sans-Serif\" font-size=\"14.00\">value = [64, 18]</text>\n<text text-anchor=\"start\" x=\"577.5\" y=\"-587.8\" font-family=\"Helvetica,sans-Serif\" font-size=\"14.00\">class = 0</text>\n</g>\n<!-- 0&#45;&gt;14 -->\n<g id=\"edge14\" class=\"edge\">\n<title>0&#45;&gt;14</title>\n<path fill=\"none\" stroke=\"black\" d=\"M555.37,-698.91C561.09,-690.1 567.19,-680.7 573.1,-671.61\"/>\n<polygon fill=\"black\" stroke=\"black\" points=\"576.17,-673.31 578.68,-663.02 570.3,-669.5 576.17,-673.31\"/>\n<text text-anchor=\"middle\" x=\"583.87\" y=\"-683.78\" font-family=\"Helvetica,sans-Serif\" font-size=\"14.00\">False</text>\n</g>\n<!-- 2 -->\n<g id=\"node3\" class=\"node\">\n<title>2</title>\n<path fill=\"#5fb0ea\" stroke=\"black\" d=\"M381.5,-544C381.5,-544 268.5,-544 268.5,-544 262.5,-544 256.5,-538 256.5,-532 256.5,-532 256.5,-473 256.5,-473 256.5,-467 262.5,-461 268.5,-461 268.5,-461 381.5,-461 381.5,-461 387.5,-461 393.5,-467 393.5,-473 393.5,-473 393.5,-532 393.5,-532 393.5,-538 387.5,-544 381.5,-544\"/>\n<text text-anchor=\"start\" x=\"264.5\" y=\"-528.8\" font-family=\"Helvetica,sans-Serif\" font-size=\"14.00\">attribute_28 ≤ 0.958</text>\n<text text-anchor=\"start\" x=\"289.5\" y=\"-513.8\" font-family=\"Helvetica,sans-Serif\" font-size=\"14.00\">gini = 0.269</text>\n<text text-anchor=\"start\" x=\"284\" y=\"-498.8\" font-family=\"Helvetica,sans-Serif\" font-size=\"14.00\">samples = 50</text>\n<text text-anchor=\"start\" x=\"282\" y=\"-483.8\" font-family=\"Helvetica,sans-Serif\" font-size=\"14.00\">value = [8, 42]</text>\n<text text-anchor=\"start\" x=\"297.5\" y=\"-468.8\" font-family=\"Helvetica,sans-Serif\" font-size=\"14.00\">class = 1</text>\n</g>\n<!-- 1&#45;&gt;2 -->\n<g id=\"edge2\" class=\"edge\">\n<title>1&#45;&gt;2</title>\n<path fill=\"none\" stroke=\"black\" d=\"M409.24,-579.91C398.94,-570.56 387.89,-560.54 377.29,-550.93\"/>\n<polygon fill=\"black\" stroke=\"black\" points=\"379.44,-548.15 369.68,-544.02 374.73,-553.33 379.44,-548.15\"/>\n</g>\n<!-- 13 -->\n<g id=\"node14\" class=\"node\">\n<title>13</title>\n<path fill=\"#e58139\" stroke=\"black\" d=\"M494.5,-536.5C494.5,-536.5 423.5,-536.5 423.5,-536.5 417.5,-536.5 411.5,-530.5 411.5,-524.5 411.5,-524.5 411.5,-480.5 411.5,-480.5 411.5,-474.5 417.5,-468.5 423.5,-468.5 423.5,-468.5 494.5,-468.5 494.5,-468.5 500.5,-468.5 506.5,-474.5 506.5,-480.5 506.5,-480.5 506.5,-524.5 506.5,-524.5 506.5,-530.5 500.5,-536.5 494.5,-536.5\"/>\n<text text-anchor=\"start\" x=\"431\" y=\"-521.3\" font-family=\"Helvetica,sans-Serif\" font-size=\"14.00\">gini = 0.0</text>\n<text text-anchor=\"start\" x=\"421.5\" y=\"-506.3\" font-family=\"Helvetica,sans-Serif\" font-size=\"14.00\">samples = 7</text>\n<text text-anchor=\"start\" x=\"419.5\" y=\"-491.3\" font-family=\"Helvetica,sans-Serif\" font-size=\"14.00\">value = [7, 0]</text>\n<text text-anchor=\"start\" x=\"431.5\" y=\"-476.3\" font-family=\"Helvetica,sans-Serif\" font-size=\"14.00\">class = 0</text>\n</g>\n<!-- 1&#45;&gt;13 -->\n<g id=\"edge13\" class=\"edge\">\n<title>1&#45;&gt;13</title>\n<path fill=\"none\" stroke=\"black\" d=\"M455.73,-579.91C456.19,-569.2 456.69,-557.62 457.15,-546.78\"/>\n<polygon fill=\"black\" stroke=\"black\" points=\"460.65,-546.81 457.58,-536.67 453.66,-546.51 460.65,-546.81\"/>\n</g>\n<!-- 3 -->\n<g id=\"node4\" class=\"node\">\n<title>3</title>\n<path fill=\"#51a9e8\" stroke=\"black\" d=\"M236.5,-425C236.5,-425 131.5,-425 131.5,-425 125.5,-425 119.5,-419 119.5,-413 119.5,-413 119.5,-354 119.5,-354 119.5,-348 125.5,-342 131.5,-342 131.5,-342 236.5,-342 236.5,-342 242.5,-342 248.5,-348 248.5,-354 248.5,-354 248.5,-413 248.5,-413 248.5,-419 242.5,-425 236.5,-425\"/>\n<text text-anchor=\"start\" x=\"127.5\" y=\"-409.8\" font-family=\"Helvetica,sans-Serif\" font-size=\"14.00\">attribute_4 ≤ 0.054</text>\n<text text-anchor=\"start\" x=\"148.5\" y=\"-394.8\" font-family=\"Helvetica,sans-Serif\" font-size=\"14.00\">gini = 0.194</text>\n<text text-anchor=\"start\" x=\"143\" y=\"-379.8\" font-family=\"Helvetica,sans-Serif\" font-size=\"14.00\">samples = 46</text>\n<text text-anchor=\"start\" x=\"141\" y=\"-364.8\" font-family=\"Helvetica,sans-Serif\" font-size=\"14.00\">value = [5, 41]</text>\n<text text-anchor=\"start\" x=\"156.5\" y=\"-349.8\" font-family=\"Helvetica,sans-Serif\" font-size=\"14.00\">class = 1</text>\n</g>\n<!-- 2&#45;&gt;3 -->\n<g id=\"edge3\" class=\"edge\">\n<title>2&#45;&gt;3</title>\n<path fill=\"none\" stroke=\"black\" d=\"M276.08,-460.91C264.71,-451.47 252.5,-441.34 240.82,-431.65\"/>\n<polygon fill=\"black\" stroke=\"black\" points=\"242.76,-428.71 232.83,-425.02 238.29,-434.1 242.76,-428.71\"/>\n</g>\n<!-- 10 -->\n<g id=\"node11\" class=\"node\">\n<title>10</title>\n<path fill=\"#eeab7b\" stroke=\"black\" d=\"M391.5,-425C391.5,-425 278.5,-425 278.5,-425 272.5,-425 266.5,-419 266.5,-413 266.5,-413 266.5,-354 266.5,-354 266.5,-348 272.5,-342 278.5,-342 278.5,-342 391.5,-342 391.5,-342 397.5,-342 403.5,-348 403.5,-354 403.5,-354 403.5,-413 403.5,-413 403.5,-419 397.5,-425 391.5,-425\"/>\n<text text-anchor=\"start\" x=\"274.5\" y=\"-409.8\" font-family=\"Helvetica,sans-Serif\" font-size=\"14.00\">attribute_29 ≤ 0.921</text>\n<text text-anchor=\"start\" x=\"299.5\" y=\"-394.8\" font-family=\"Helvetica,sans-Serif\" font-size=\"14.00\">gini = 0.375</text>\n<text text-anchor=\"start\" x=\"297.5\" y=\"-379.8\" font-family=\"Helvetica,sans-Serif\" font-size=\"14.00\">samples = 4</text>\n<text text-anchor=\"start\" x=\"295.5\" y=\"-364.8\" font-family=\"Helvetica,sans-Serif\" font-size=\"14.00\">value = [3, 1]</text>\n<text text-anchor=\"start\" x=\"307.5\" y=\"-349.8\" font-family=\"Helvetica,sans-Serif\" font-size=\"14.00\">class = 0</text>\n</g>\n<!-- 2&#45;&gt;10 -->\n<g id=\"edge10\" class=\"edge\">\n<title>2&#45;&gt;10</title>\n<path fill=\"none\" stroke=\"black\" d=\"M328.47,-460.91C329.18,-452.56 329.94,-443.67 330.68,-435.02\"/>\n<polygon fill=\"black\" stroke=\"black\" points=\"334.17,-435.28 331.54,-425.02 327.2,-434.69 334.17,-435.28\"/>\n</g>\n<!-- 4 -->\n<g id=\"node5\" class=\"node\">\n<title>4</title>\n<path fill=\"#399de5\" stroke=\"black\" d=\"M90,-298.5C90,-298.5 12,-298.5 12,-298.5 6,-298.5 0,-292.5 0,-286.5 0,-286.5 0,-242.5 0,-242.5 0,-236.5 6,-230.5 12,-230.5 12,-230.5 90,-230.5 90,-230.5 96,-230.5 102,-236.5 102,-242.5 102,-242.5 102,-286.5 102,-286.5 102,-292.5 96,-298.5 90,-298.5\"/>\n<text text-anchor=\"start\" x=\"23\" y=\"-283.3\" font-family=\"Helvetica,sans-Serif\" font-size=\"14.00\">gini = 0.0</text>\n<text text-anchor=\"start\" x=\"10\" y=\"-268.3\" font-family=\"Helvetica,sans-Serif\" font-size=\"14.00\">samples = 36</text>\n<text text-anchor=\"start\" x=\"8\" y=\"-253.3\" font-family=\"Helvetica,sans-Serif\" font-size=\"14.00\">value = [0, 36]</text>\n<text text-anchor=\"start\" x=\"23.5\" y=\"-238.3\" font-family=\"Helvetica,sans-Serif\" font-size=\"14.00\">class = 1</text>\n</g>\n<!-- 3&#45;&gt;4 -->\n<g id=\"edge4\" class=\"edge\">\n<title>3&#45;&gt;4</title>\n<path fill=\"none\" stroke=\"black\" d=\"M137.86,-341.91C124.43,-330.1 109.79,-317.22 96.41,-305.45\"/>\n<polygon fill=\"black\" stroke=\"black\" points=\"98.52,-302.64 88.7,-298.67 93.9,-307.9 98.52,-302.64\"/>\n</g>\n<!-- 5 -->\n<g id=\"node6\" class=\"node\">\n<title>5</title>\n<path fill=\"#ffffff\" stroke=\"black\" d=\"M245.5,-306C245.5,-306 132.5,-306 132.5,-306 126.5,-306 120.5,-300 120.5,-294 120.5,-294 120.5,-235 120.5,-235 120.5,-229 126.5,-223 132.5,-223 132.5,-223 245.5,-223 245.5,-223 251.5,-223 257.5,-229 257.5,-235 257.5,-235 257.5,-294 257.5,-294 257.5,-300 251.5,-306 245.5,-306\"/>\n<text text-anchor=\"start\" x=\"128.5\" y=\"-290.8\" font-family=\"Helvetica,sans-Serif\" font-size=\"14.00\">attribute_20 ≤ 0.796</text>\n<text text-anchor=\"start\" x=\"161\" y=\"-275.8\" font-family=\"Helvetica,sans-Serif\" font-size=\"14.00\">gini = 0.5</text>\n<text text-anchor=\"start\" x=\"148\" y=\"-260.8\" font-family=\"Helvetica,sans-Serif\" font-size=\"14.00\">samples = 10</text>\n<text text-anchor=\"start\" x=\"149.5\" y=\"-245.8\" font-family=\"Helvetica,sans-Serif\" font-size=\"14.00\">value = [5, 5]</text>\n<text text-anchor=\"start\" x=\"161.5\" y=\"-230.8\" font-family=\"Helvetica,sans-Serif\" font-size=\"14.00\">class = 0</text>\n</g>\n<!-- 3&#45;&gt;5 -->\n<g id=\"edge5\" class=\"edge\">\n<title>3&#45;&gt;5</title>\n<path fill=\"none\" stroke=\"black\" d=\"M185.73,-341.91C186.09,-333.56 186.47,-324.67 186.84,-316.02\"/>\n<polygon fill=\"black\" stroke=\"black\" points=\"190.34,-316.16 187.27,-306.02 183.34,-315.86 190.34,-316.16\"/>\n</g>\n<!-- 6 -->\n<g id=\"node7\" class=\"node\">\n<title>6</title>\n<path fill=\"#61b1ea\" stroke=\"black\" d=\"M178.5,-187C178.5,-187 65.5,-187 65.5,-187 59.5,-187 53.5,-181 53.5,-175 53.5,-175 53.5,-116 53.5,-116 53.5,-110 59.5,-104 65.5,-104 65.5,-104 178.5,-104 178.5,-104 184.5,-104 190.5,-110 190.5,-116 190.5,-116 190.5,-175 190.5,-175 190.5,-181 184.5,-187 178.5,-187\"/>\n<text text-anchor=\"start\" x=\"61.5\" y=\"-171.8\" font-family=\"Helvetica,sans-Serif\" font-size=\"14.00\">attribute_45 ≤ 0.366</text>\n<text text-anchor=\"start\" x=\"86.5\" y=\"-156.8\" font-family=\"Helvetica,sans-Serif\" font-size=\"14.00\">gini = 0.278</text>\n<text text-anchor=\"start\" x=\"84.5\" y=\"-141.8\" font-family=\"Helvetica,sans-Serif\" font-size=\"14.00\">samples = 6</text>\n<text text-anchor=\"start\" x=\"82.5\" y=\"-126.8\" font-family=\"Helvetica,sans-Serif\" font-size=\"14.00\">value = [1, 5]</text>\n<text text-anchor=\"start\" x=\"94.5\" y=\"-111.8\" font-family=\"Helvetica,sans-Serif\" font-size=\"14.00\">class = 1</text>\n</g>\n<!-- 5&#45;&gt;6 -->\n<g id=\"edge6\" class=\"edge\">\n<title>5&#45;&gt;6</title>\n<path fill=\"none\" stroke=\"black\" d=\"M165.75,-222.91C160.77,-214.2 155.44,-204.9 150.29,-195.89\"/>\n<polygon fill=\"black\" stroke=\"black\" points=\"153.21,-193.96 145.2,-187.02 147.14,-197.44 153.21,-193.96\"/>\n</g>\n<!-- 9 -->\n<g id=\"node10\" class=\"node\">\n<title>9</title>\n<path fill=\"#e58139\" stroke=\"black\" d=\"M291.5,-179.5C291.5,-179.5 220.5,-179.5 220.5,-179.5 214.5,-179.5 208.5,-173.5 208.5,-167.5 208.5,-167.5 208.5,-123.5 208.5,-123.5 208.5,-117.5 214.5,-111.5 220.5,-111.5 220.5,-111.5 291.5,-111.5 291.5,-111.5 297.5,-111.5 303.5,-117.5 303.5,-123.5 303.5,-123.5 303.5,-167.5 303.5,-167.5 303.5,-173.5 297.5,-179.5 291.5,-179.5\"/>\n<text text-anchor=\"start\" x=\"228\" y=\"-164.3\" font-family=\"Helvetica,sans-Serif\" font-size=\"14.00\">gini = 0.0</text>\n<text text-anchor=\"start\" x=\"218.5\" y=\"-149.3\" font-family=\"Helvetica,sans-Serif\" font-size=\"14.00\">samples = 4</text>\n<text text-anchor=\"start\" x=\"216.5\" y=\"-134.3\" font-family=\"Helvetica,sans-Serif\" font-size=\"14.00\">value = [4, 0]</text>\n<text text-anchor=\"start\" x=\"228.5\" y=\"-119.3\" font-family=\"Helvetica,sans-Serif\" font-size=\"14.00\">class = 0</text>\n</g>\n<!-- 5&#45;&gt;9 -->\n<g id=\"edge9\" class=\"edge\">\n<title>5&#45;&gt;9</title>\n<path fill=\"none\" stroke=\"black\" d=\"M212.25,-222.91C218.63,-211.76 225.56,-199.66 231.98,-188.44\"/>\n<polygon fill=\"black\" stroke=\"black\" points=\"235.07,-190.08 237.01,-179.67 229,-186.61 235.07,-190.08\"/>\n</g>\n<!-- 7 -->\n<g id=\"node8\" class=\"node\">\n<title>7</title>\n<path fill=\"#399de5\" stroke=\"black\" d=\"M101.5,-68C101.5,-68 30.5,-68 30.5,-68 24.5,-68 18.5,-62 18.5,-56 18.5,-56 18.5,-12 18.5,-12 18.5,-6 24.5,0 30.5,0 30.5,0 101.5,0 101.5,0 107.5,0 113.5,-6 113.5,-12 113.5,-12 113.5,-56 113.5,-56 113.5,-62 107.5,-68 101.5,-68\"/>\n<text text-anchor=\"start\" x=\"38\" y=\"-52.8\" font-family=\"Helvetica,sans-Serif\" font-size=\"14.00\">gini = 0.0</text>\n<text text-anchor=\"start\" x=\"28.5\" y=\"-37.8\" font-family=\"Helvetica,sans-Serif\" font-size=\"14.00\">samples = 5</text>\n<text text-anchor=\"start\" x=\"26.5\" y=\"-22.8\" font-family=\"Helvetica,sans-Serif\" font-size=\"14.00\">value = [0, 5]</text>\n<text text-anchor=\"start\" x=\"38.5\" y=\"-7.8\" font-family=\"Helvetica,sans-Serif\" font-size=\"14.00\">class = 1</text>\n</g>\n<!-- 6&#45;&gt;7 -->\n<g id=\"edge7\" class=\"edge\">\n<title>6&#45;&gt;7</title>\n<path fill=\"none\" stroke=\"black\" d=\"M101.15,-103.73C96.76,-95.15 92.13,-86.09 87.71,-77.46\"/>\n<polygon fill=\"black\" stroke=\"black\" points=\"90.7,-75.61 83.03,-68.3 84.47,-78.8 90.7,-75.61\"/>\n</g>\n<!-- 8 -->\n<g id=\"node9\" class=\"node\">\n<title>8</title>\n<path fill=\"#e58139\" stroke=\"black\" d=\"M214.5,-68C214.5,-68 143.5,-68 143.5,-68 137.5,-68 131.5,-62 131.5,-56 131.5,-56 131.5,-12 131.5,-12 131.5,-6 137.5,0 143.5,0 143.5,0 214.5,0 214.5,0 220.5,0 226.5,-6 226.5,-12 226.5,-12 226.5,-56 226.5,-56 226.5,-62 220.5,-68 214.5,-68\"/>\n<text text-anchor=\"start\" x=\"151\" y=\"-52.8\" font-family=\"Helvetica,sans-Serif\" font-size=\"14.00\">gini = 0.0</text>\n<text text-anchor=\"start\" x=\"141.5\" y=\"-37.8\" font-family=\"Helvetica,sans-Serif\" font-size=\"14.00\">samples = 1</text>\n<text text-anchor=\"start\" x=\"139.5\" y=\"-22.8\" font-family=\"Helvetica,sans-Serif\" font-size=\"14.00\">value = [1, 0]</text>\n<text text-anchor=\"start\" x=\"151.5\" y=\"-7.8\" font-family=\"Helvetica,sans-Serif\" font-size=\"14.00\">class = 0</text>\n</g>\n<!-- 6&#45;&gt;8 -->\n<g id=\"edge8\" class=\"edge\">\n<title>6&#45;&gt;8</title>\n<path fill=\"none\" stroke=\"black\" d=\"M143.22,-103.73C147.74,-95.06 152.51,-85.9 157.04,-77.18\"/>\n<polygon fill=\"black\" stroke=\"black\" points=\"160.15,-78.79 161.67,-68.3 153.94,-75.55 160.15,-78.79\"/>\n</g>\n<!-- 11 -->\n<g id=\"node12\" class=\"node\">\n<title>11</title>\n<path fill=\"#e58139\" stroke=\"black\" d=\"M366.5,-298.5C366.5,-298.5 295.5,-298.5 295.5,-298.5 289.5,-298.5 283.5,-292.5 283.5,-286.5 283.5,-286.5 283.5,-242.5 283.5,-242.5 283.5,-236.5 289.5,-230.5 295.5,-230.5 295.5,-230.5 366.5,-230.5 366.5,-230.5 372.5,-230.5 378.5,-236.5 378.5,-242.5 378.5,-242.5 378.5,-286.5 378.5,-286.5 378.5,-292.5 372.5,-298.5 366.5,-298.5\"/>\n<text text-anchor=\"start\" x=\"303\" y=\"-283.3\" font-family=\"Helvetica,sans-Serif\" font-size=\"14.00\">gini = 0.0</text>\n<text text-anchor=\"start\" x=\"293.5\" y=\"-268.3\" font-family=\"Helvetica,sans-Serif\" font-size=\"14.00\">samples = 3</text>\n<text text-anchor=\"start\" x=\"291.5\" y=\"-253.3\" font-family=\"Helvetica,sans-Serif\" font-size=\"14.00\">value = [3, 0]</text>\n<text text-anchor=\"start\" x=\"303.5\" y=\"-238.3\" font-family=\"Helvetica,sans-Serif\" font-size=\"14.00\">class = 0</text>\n</g>\n<!-- 10&#45;&gt;11 -->\n<g id=\"edge11\" class=\"edge\">\n<title>10&#45;&gt;11</title>\n<path fill=\"none\" stroke=\"black\" d=\"M333.61,-341.91C333.25,-331.2 332.85,-319.62 332.48,-308.78\"/>\n<polygon fill=\"black\" stroke=\"black\" points=\"335.97,-308.54 332.13,-298.67 328.98,-308.78 335.97,-308.54\"/>\n</g>\n<!-- 12 -->\n<g id=\"node13\" class=\"node\">\n<title>12</title>\n<path fill=\"#399de5\" stroke=\"black\" d=\"M479.5,-298.5C479.5,-298.5 408.5,-298.5 408.5,-298.5 402.5,-298.5 396.5,-292.5 396.5,-286.5 396.5,-286.5 396.5,-242.5 396.5,-242.5 396.5,-236.5 402.5,-230.5 408.5,-230.5 408.5,-230.5 479.5,-230.5 479.5,-230.5 485.5,-230.5 491.5,-236.5 491.5,-242.5 491.5,-242.5 491.5,-286.5 491.5,-286.5 491.5,-292.5 485.5,-298.5 479.5,-298.5\"/>\n<text text-anchor=\"start\" x=\"416\" y=\"-283.3\" font-family=\"Helvetica,sans-Serif\" font-size=\"14.00\">gini = 0.0</text>\n<text text-anchor=\"start\" x=\"406.5\" y=\"-268.3\" font-family=\"Helvetica,sans-Serif\" font-size=\"14.00\">samples = 1</text>\n<text text-anchor=\"start\" x=\"404.5\" y=\"-253.3\" font-family=\"Helvetica,sans-Serif\" font-size=\"14.00\">value = [0, 1]</text>\n<text text-anchor=\"start\" x=\"416.5\" y=\"-238.3\" font-family=\"Helvetica,sans-Serif\" font-size=\"14.00\">class = 1</text>\n</g>\n<!-- 10&#45;&gt;12 -->\n<g id=\"edge12\" class=\"edge\">\n<title>10&#45;&gt;12</title>\n<path fill=\"none\" stroke=\"black\" d=\"M372.82,-341.91C383.61,-330.32 395.37,-317.7 406.17,-306.11\"/>\n<polygon fill=\"black\" stroke=\"black\" points=\"408.85,-308.37 413.1,-298.67 403.72,-303.6 408.85,-308.37\"/>\n</g>\n<!-- 15 -->\n<g id=\"node16\" class=\"node\">\n<title>15</title>\n<path fill=\"#5aade9\" stroke=\"black\" d=\"M657.5,-544C657.5,-544 544.5,-544 544.5,-544 538.5,-544 532.5,-538 532.5,-532 532.5,-532 532.5,-473 532.5,-473 532.5,-467 538.5,-461 544.5,-461 544.5,-461 657.5,-461 657.5,-461 663.5,-461 669.5,-467 669.5,-473 669.5,-473 669.5,-532 669.5,-532 669.5,-538 663.5,-544 657.5,-544\"/>\n<text text-anchor=\"start\" x=\"540.5\" y=\"-528.8\" font-family=\"Helvetica,sans-Serif\" font-size=\"14.00\">attribute_54 ≤ 0.006</text>\n<text text-anchor=\"start\" x=\"565.5\" y=\"-513.8\" font-family=\"Helvetica,sans-Serif\" font-size=\"14.00\">gini = 0.245</text>\n<text text-anchor=\"start\" x=\"563.5\" y=\"-498.8\" font-family=\"Helvetica,sans-Serif\" font-size=\"14.00\">samples = 7</text>\n<text text-anchor=\"start\" x=\"561.5\" y=\"-483.8\" font-family=\"Helvetica,sans-Serif\" font-size=\"14.00\">value = [1, 6]</text>\n<text text-anchor=\"start\" x=\"573.5\" y=\"-468.8\" font-family=\"Helvetica,sans-Serif\" font-size=\"14.00\">class = 1</text>\n</g>\n<!-- 14&#45;&gt;15 -->\n<g id=\"edge15\" class=\"edge\">\n<title>14&#45;&gt;15</title>\n<path fill=\"none\" stroke=\"black\" d=\"M603.61,-579.91C603.33,-571.56 603.02,-562.67 602.73,-554.02\"/>\n<polygon fill=\"black\" stroke=\"black\" points=\"606.23,-553.9 602.39,-544.02 599.23,-554.13 606.23,-553.9\"/>\n</g>\n<!-- 18 -->\n<g id=\"node19\" class=\"node\">\n<title>18</title>\n<path fill=\"#ea995f\" stroke=\"black\" d=\"M812.5,-544C812.5,-544 699.5,-544 699.5,-544 693.5,-544 687.5,-538 687.5,-532 687.5,-532 687.5,-473 687.5,-473 687.5,-467 693.5,-461 699.5,-461 699.5,-461 812.5,-461 812.5,-461 818.5,-461 824.5,-467 824.5,-473 824.5,-473 824.5,-532 824.5,-532 824.5,-538 818.5,-544 812.5,-544\"/>\n<text text-anchor=\"start\" x=\"695.5\" y=\"-528.8\" font-family=\"Helvetica,sans-Serif\" font-size=\"14.00\">attribute_51 ≤ 0.014</text>\n<text text-anchor=\"start\" x=\"720.5\" y=\"-513.8\" font-family=\"Helvetica,sans-Serif\" font-size=\"14.00\">gini = 0.269</text>\n<text text-anchor=\"start\" x=\"715\" y=\"-498.8\" font-family=\"Helvetica,sans-Serif\" font-size=\"14.00\">samples = 75</text>\n<text text-anchor=\"start\" x=\"709\" y=\"-483.8\" font-family=\"Helvetica,sans-Serif\" font-size=\"14.00\">value = [63, 12]</text>\n<text text-anchor=\"start\" x=\"728.5\" y=\"-468.8\" font-family=\"Helvetica,sans-Serif\" font-size=\"14.00\">class = 0</text>\n</g>\n<!-- 14&#45;&gt;18 -->\n<g id=\"edge18\" class=\"edge\">\n<title>14&#45;&gt;18</title>\n<path fill=\"none\" stroke=\"black\" d=\"M657.39,-579.91C669.69,-570.38 682.89,-560.15 695.51,-550.37\"/>\n<polygon fill=\"black\" stroke=\"black\" points=\"697.94,-552.91 703.7,-544.02 693.66,-547.38 697.94,-552.91\"/>\n</g>\n<!-- 16 -->\n<g id=\"node17\" class=\"node\">\n<title>16</title>\n<path fill=\"#e58139\" stroke=\"black\" d=\"M529.5,-417.5C529.5,-417.5 458.5,-417.5 458.5,-417.5 452.5,-417.5 446.5,-411.5 446.5,-405.5 446.5,-405.5 446.5,-361.5 446.5,-361.5 446.5,-355.5 452.5,-349.5 458.5,-349.5 458.5,-349.5 529.5,-349.5 529.5,-349.5 535.5,-349.5 541.5,-355.5 541.5,-361.5 541.5,-361.5 541.5,-405.5 541.5,-405.5 541.5,-411.5 535.5,-417.5 529.5,-417.5\"/>\n<text text-anchor=\"start\" x=\"466\" y=\"-402.3\" font-family=\"Helvetica,sans-Serif\" font-size=\"14.00\">gini = 0.0</text>\n<text text-anchor=\"start\" x=\"456.5\" y=\"-387.3\" font-family=\"Helvetica,sans-Serif\" font-size=\"14.00\">samples = 1</text>\n<text text-anchor=\"start\" x=\"454.5\" y=\"-372.3\" font-family=\"Helvetica,sans-Serif\" font-size=\"14.00\">value = [1, 0]</text>\n<text text-anchor=\"start\" x=\"466.5\" y=\"-357.3\" font-family=\"Helvetica,sans-Serif\" font-size=\"14.00\">class = 0</text>\n</g>\n<!-- 15&#45;&gt;16 -->\n<g id=\"edge16\" class=\"edge\">\n<title>15&#45;&gt;16</title>\n<path fill=\"none\" stroke=\"black\" d=\"M563.88,-460.91C553.28,-449.32 541.74,-436.7 531.14,-425.11\"/>\n<polygon fill=\"black\" stroke=\"black\" points=\"533.66,-422.68 524.33,-417.67 528.5,-427.41 533.66,-422.68\"/>\n</g>\n<!-- 17 -->\n<g id=\"node18\" class=\"node\">\n<title>17</title>\n<path fill=\"#399de5\" stroke=\"black\" d=\"M642.5,-417.5C642.5,-417.5 571.5,-417.5 571.5,-417.5 565.5,-417.5 559.5,-411.5 559.5,-405.5 559.5,-405.5 559.5,-361.5 559.5,-361.5 559.5,-355.5 565.5,-349.5 571.5,-349.5 571.5,-349.5 642.5,-349.5 642.5,-349.5 648.5,-349.5 654.5,-355.5 654.5,-361.5 654.5,-361.5 654.5,-405.5 654.5,-405.5 654.5,-411.5 648.5,-417.5 642.5,-417.5\"/>\n<text text-anchor=\"start\" x=\"579\" y=\"-402.3\" font-family=\"Helvetica,sans-Serif\" font-size=\"14.00\">gini = 0.0</text>\n<text text-anchor=\"start\" x=\"569.5\" y=\"-387.3\" font-family=\"Helvetica,sans-Serif\" font-size=\"14.00\">samples = 6</text>\n<text text-anchor=\"start\" x=\"567.5\" y=\"-372.3\" font-family=\"Helvetica,sans-Serif\" font-size=\"14.00\">value = [0, 6]</text>\n<text text-anchor=\"start\" x=\"579.5\" y=\"-357.3\" font-family=\"Helvetica,sans-Serif\" font-size=\"14.00\">class = 1</text>\n</g>\n<!-- 15&#45;&gt;17 -->\n<g id=\"edge17\" class=\"edge\">\n<title>15&#45;&gt;17</title>\n<path fill=\"none\" stroke=\"black\" d=\"M603.08,-460.91C603.63,-450.2 604.22,-438.62 604.78,-427.78\"/>\n<polygon fill=\"black\" stroke=\"black\" points=\"608.28,-427.83 605.3,-417.67 601.29,-427.47 608.28,-427.83\"/>\n</g>\n<!-- 19 -->\n<g id=\"node20\" class=\"node\">\n<title>19</title>\n<path fill=\"#f8dbc6\" stroke=\"black\" d=\"M807.5,-425C807.5,-425 694.5,-425 694.5,-425 688.5,-425 682.5,-419 682.5,-413 682.5,-413 682.5,-354 682.5,-354 682.5,-348 688.5,-342 694.5,-342 694.5,-342 807.5,-342 807.5,-342 813.5,-342 819.5,-348 819.5,-354 819.5,-354 819.5,-413 819.5,-413 819.5,-419 813.5,-425 807.5,-425\"/>\n<text text-anchor=\"start\" x=\"690.5\" y=\"-409.8\" font-family=\"Helvetica,sans-Serif\" font-size=\"14.00\">attribute_11 ≤ 0.269</text>\n<text text-anchor=\"start\" x=\"715.5\" y=\"-394.8\" font-family=\"Helvetica,sans-Serif\" font-size=\"14.00\">gini = 0.486</text>\n<text text-anchor=\"start\" x=\"710\" y=\"-379.8\" font-family=\"Helvetica,sans-Serif\" font-size=\"14.00\">samples = 24</text>\n<text text-anchor=\"start\" x=\"704\" y=\"-364.8\" font-family=\"Helvetica,sans-Serif\" font-size=\"14.00\">value = [14, 10]</text>\n<text text-anchor=\"start\" x=\"723.5\" y=\"-349.8\" font-family=\"Helvetica,sans-Serif\" font-size=\"14.00\">class = 0</text>\n</g>\n<!-- 18&#45;&gt;19 -->\n<g id=\"edge19\" class=\"edge\">\n<title>18&#45;&gt;19</title>\n<path fill=\"none\" stroke=\"black\" d=\"M754.27,-460.91C753.91,-452.56 753.53,-443.67 753.16,-435.02\"/>\n<polygon fill=\"black\" stroke=\"black\" points=\"756.66,-434.86 752.73,-425.02 749.66,-435.16 756.66,-434.86\"/>\n</g>\n<!-- 26 -->\n<g id=\"node27\" class=\"node\">\n<title>26</title>\n<path fill=\"#e68641\" stroke=\"black\" d=\"M962.5,-425C962.5,-425 849.5,-425 849.5,-425 843.5,-425 837.5,-419 837.5,-413 837.5,-413 837.5,-354 837.5,-354 837.5,-348 843.5,-342 849.5,-342 849.5,-342 962.5,-342 962.5,-342 968.5,-342 974.5,-348 974.5,-354 974.5,-354 974.5,-413 974.5,-413 974.5,-419 968.5,-425 962.5,-425\"/>\n<text text-anchor=\"start\" x=\"845.5\" y=\"-409.8\" font-family=\"Helvetica,sans-Serif\" font-size=\"14.00\">attribute_35 ≤ 0.034</text>\n<text text-anchor=\"start\" x=\"870.5\" y=\"-394.8\" font-family=\"Helvetica,sans-Serif\" font-size=\"14.00\">gini = 0.075</text>\n<text text-anchor=\"start\" x=\"865\" y=\"-379.8\" font-family=\"Helvetica,sans-Serif\" font-size=\"14.00\">samples = 51</text>\n<text text-anchor=\"start\" x=\"863\" y=\"-364.8\" font-family=\"Helvetica,sans-Serif\" font-size=\"14.00\">value = [49, 2]</text>\n<text text-anchor=\"start\" x=\"878.5\" y=\"-349.8\" font-family=\"Helvetica,sans-Serif\" font-size=\"14.00\">class = 0</text>\n</g>\n<!-- 18&#45;&gt;26 -->\n<g id=\"edge26\" class=\"edge\">\n<title>18&#45;&gt;26</title>\n<path fill=\"none\" stroke=\"black\" d=\"M808.04,-460.91C820.26,-451.38 833.37,-441.15 845.91,-431.37\"/>\n<polygon fill=\"black\" stroke=\"black\" points=\"848.32,-433.93 854.05,-425.02 844.01,-428.41 848.32,-433.93\"/>\n</g>\n<!-- 20 -->\n<g id=\"node21\" class=\"node\">\n<title>20</title>\n<path fill=\"#e58139\" stroke=\"black\" d=\"M658.5,-298.5C658.5,-298.5 587.5,-298.5 587.5,-298.5 581.5,-298.5 575.5,-292.5 575.5,-286.5 575.5,-286.5 575.5,-242.5 575.5,-242.5 575.5,-236.5 581.5,-230.5 587.5,-230.5 587.5,-230.5 658.5,-230.5 658.5,-230.5 664.5,-230.5 670.5,-236.5 670.5,-242.5 670.5,-242.5 670.5,-286.5 670.5,-286.5 670.5,-292.5 664.5,-298.5 658.5,-298.5\"/>\n<text text-anchor=\"start\" x=\"595\" y=\"-283.3\" font-family=\"Helvetica,sans-Serif\" font-size=\"14.00\">gini = 0.0</text>\n<text text-anchor=\"start\" x=\"585.5\" y=\"-268.3\" font-family=\"Helvetica,sans-Serif\" font-size=\"14.00\">samples = 8</text>\n<text text-anchor=\"start\" x=\"583.5\" y=\"-253.3\" font-family=\"Helvetica,sans-Serif\" font-size=\"14.00\">value = [8, 0]</text>\n<text text-anchor=\"start\" x=\"595.5\" y=\"-238.3\" font-family=\"Helvetica,sans-Serif\" font-size=\"14.00\">class = 0</text>\n</g>\n<!-- 19&#45;&gt;20 -->\n<g id=\"edge20\" class=\"edge\">\n<title>19&#45;&gt;20</title>\n<path fill=\"none\" stroke=\"black\" d=\"M706.59,-341.91C693.67,-330.1 679.58,-317.22 666.71,-305.45\"/>\n<polygon fill=\"black\" stroke=\"black\" points=\"669.03,-302.83 659.29,-298.67 664.3,-308 669.03,-302.83\"/>\n</g>\n<!-- 21 -->\n<g id=\"node22\" class=\"node\">\n<title>21</title>\n<path fill=\"#b0d8f5\" stroke=\"black\" d=\"M813.5,-306C813.5,-306 700.5,-306 700.5,-306 694.5,-306 688.5,-300 688.5,-294 688.5,-294 688.5,-235 688.5,-235 688.5,-229 694.5,-223 700.5,-223 700.5,-223 813.5,-223 813.5,-223 819.5,-223 825.5,-229 825.5,-235 825.5,-235 825.5,-294 825.5,-294 825.5,-300 819.5,-306 813.5,-306\"/>\n<text text-anchor=\"start\" x=\"696.5\" y=\"-290.8\" font-family=\"Helvetica,sans-Serif\" font-size=\"14.00\">attribute_27 ≤ 0.906</text>\n<text text-anchor=\"start\" x=\"721.5\" y=\"-275.8\" font-family=\"Helvetica,sans-Serif\" font-size=\"14.00\">gini = 0.469</text>\n<text text-anchor=\"start\" x=\"716\" y=\"-260.8\" font-family=\"Helvetica,sans-Serif\" font-size=\"14.00\">samples = 16</text>\n<text text-anchor=\"start\" x=\"714\" y=\"-245.8\" font-family=\"Helvetica,sans-Serif\" font-size=\"14.00\">value = [6, 10]</text>\n<text text-anchor=\"start\" x=\"729.5\" y=\"-230.8\" font-family=\"Helvetica,sans-Serif\" font-size=\"14.00\">class = 1</text>\n</g>\n<!-- 19&#45;&gt;21 -->\n<g id=\"edge21\" class=\"edge\">\n<title>19&#45;&gt;21</title>\n<path fill=\"none\" stroke=\"black\" d=\"M753.08,-341.91C753.51,-333.56 753.97,-324.67 754.41,-316.02\"/>\n<polygon fill=\"black\" stroke=\"black\" points=\"757.91,-316.19 754.92,-306.02 750.91,-315.83 757.91,-316.19\"/>\n</g>\n<!-- 22 -->\n<g id=\"node23\" class=\"node\">\n<title>22</title>\n<path fill=\"#61b1ea\" stroke=\"black\" d=\"M690.5,-187C690.5,-187 577.5,-187 577.5,-187 571.5,-187 565.5,-181 565.5,-175 565.5,-175 565.5,-116 565.5,-116 565.5,-110 571.5,-104 577.5,-104 577.5,-104 690.5,-104 690.5,-104 696.5,-104 702.5,-110 702.5,-116 702.5,-116 702.5,-175 702.5,-175 702.5,-181 696.5,-187 690.5,-187\"/>\n<text text-anchor=\"start\" x=\"573.5\" y=\"-171.8\" font-family=\"Helvetica,sans-Serif\" font-size=\"14.00\">attribute_11 ≤ 0.353</text>\n<text text-anchor=\"start\" x=\"598.5\" y=\"-156.8\" font-family=\"Helvetica,sans-Serif\" font-size=\"14.00\">gini = 0.278</text>\n<text text-anchor=\"start\" x=\"593\" y=\"-141.8\" font-family=\"Helvetica,sans-Serif\" font-size=\"14.00\">samples = 12</text>\n<text text-anchor=\"start\" x=\"591\" y=\"-126.8\" font-family=\"Helvetica,sans-Serif\" font-size=\"14.00\">value = [2, 10]</text>\n<text text-anchor=\"start\" x=\"606.5\" y=\"-111.8\" font-family=\"Helvetica,sans-Serif\" font-size=\"14.00\">class = 1</text>\n</g>\n<!-- 21&#45;&gt;22 -->\n<g id=\"edge22\" class=\"edge\">\n<title>21&#45;&gt;22</title>\n<path fill=\"none\" stroke=\"black\" d=\"M714.33,-222.91C704.5,-213.56 693.96,-203.54 683.86,-193.93\"/>\n<polygon fill=\"black\" stroke=\"black\" points=\"686.26,-191.38 676.6,-187.02 681.43,-196.45 686.26,-191.38\"/>\n</g>\n<!-- 25 -->\n<g id=\"node26\" class=\"node\">\n<title>25</title>\n<path fill=\"#e58139\" stroke=\"black\" d=\"M803.5,-179.5C803.5,-179.5 732.5,-179.5 732.5,-179.5 726.5,-179.5 720.5,-173.5 720.5,-167.5 720.5,-167.5 720.5,-123.5 720.5,-123.5 720.5,-117.5 726.5,-111.5 732.5,-111.5 732.5,-111.5 803.5,-111.5 803.5,-111.5 809.5,-111.5 815.5,-117.5 815.5,-123.5 815.5,-123.5 815.5,-167.5 815.5,-167.5 815.5,-173.5 809.5,-179.5 803.5,-179.5\"/>\n<text text-anchor=\"start\" x=\"740\" y=\"-164.3\" font-family=\"Helvetica,sans-Serif\" font-size=\"14.00\">gini = 0.0</text>\n<text text-anchor=\"start\" x=\"730.5\" y=\"-149.3\" font-family=\"Helvetica,sans-Serif\" font-size=\"14.00\">samples = 4</text>\n<text text-anchor=\"start\" x=\"728.5\" y=\"-134.3\" font-family=\"Helvetica,sans-Serif\" font-size=\"14.00\">value = [4, 0]</text>\n<text text-anchor=\"start\" x=\"740.5\" y=\"-119.3\" font-family=\"Helvetica,sans-Serif\" font-size=\"14.00\">class = 0</text>\n</g>\n<!-- 21&#45;&gt;25 -->\n<g id=\"edge25\" class=\"edge\">\n<title>21&#45;&gt;25</title>\n<path fill=\"none\" stroke=\"black\" d=\"M760.82,-222.91C761.82,-212.2 762.91,-200.62 763.93,-189.78\"/>\n<polygon fill=\"black\" stroke=\"black\" points=\"767.43,-189.95 764.88,-179.67 760.46,-189.3 767.43,-189.95\"/>\n</g>\n<!-- 23 -->\n<g id=\"node24\" class=\"node\">\n<title>23</title>\n<path fill=\"#399de5\" stroke=\"black\" d=\"M615,-68C615,-68 537,-68 537,-68 531,-68 525,-62 525,-56 525,-56 525,-12 525,-12 525,-6 531,0 537,0 537,0 615,0 615,0 621,0 627,-6 627,-12 627,-12 627,-56 627,-56 627,-62 621,-68 615,-68\"/>\n<text text-anchor=\"start\" x=\"548\" y=\"-52.8\" font-family=\"Helvetica,sans-Serif\" font-size=\"14.00\">gini = 0.0</text>\n<text text-anchor=\"start\" x=\"535\" y=\"-37.8\" font-family=\"Helvetica,sans-Serif\" font-size=\"14.00\">samples = 10</text>\n<text text-anchor=\"start\" x=\"533\" y=\"-22.8\" font-family=\"Helvetica,sans-Serif\" font-size=\"14.00\">value = [0, 10]</text>\n<text text-anchor=\"start\" x=\"548.5\" y=\"-7.8\" font-family=\"Helvetica,sans-Serif\" font-size=\"14.00\">class = 1</text>\n</g>\n<!-- 22&#45;&gt;23 -->\n<g id=\"edge23\" class=\"edge\">\n<title>22&#45;&gt;23</title>\n<path fill=\"none\" stroke=\"black\" d=\"M612.4,-103.73C607.81,-95.06 602.96,-85.9 598.34,-77.18\"/>\n<polygon fill=\"black\" stroke=\"black\" points=\"601.41,-75.5 593.64,-68.3 595.23,-78.77 601.41,-75.5\"/>\n</g>\n<!-- 24 -->\n<g id=\"node25\" class=\"node\">\n<title>24</title>\n<path fill=\"#e58139\" stroke=\"black\" d=\"M728.5,-68C728.5,-68 657.5,-68 657.5,-68 651.5,-68 645.5,-62 645.5,-56 645.5,-56 645.5,-12 645.5,-12 645.5,-6 651.5,0 657.5,0 657.5,0 728.5,0 728.5,0 734.5,0 740.5,-6 740.5,-12 740.5,-12 740.5,-56 740.5,-56 740.5,-62 734.5,-68 728.5,-68\"/>\n<text text-anchor=\"start\" x=\"665\" y=\"-52.8\" font-family=\"Helvetica,sans-Serif\" font-size=\"14.00\">gini = 0.0</text>\n<text text-anchor=\"start\" x=\"655.5\" y=\"-37.8\" font-family=\"Helvetica,sans-Serif\" font-size=\"14.00\">samples = 2</text>\n<text text-anchor=\"start\" x=\"653.5\" y=\"-22.8\" font-family=\"Helvetica,sans-Serif\" font-size=\"14.00\">value = [2, 0]</text>\n<text text-anchor=\"start\" x=\"665.5\" y=\"-7.8\" font-family=\"Helvetica,sans-Serif\" font-size=\"14.00\">class = 0</text>\n</g>\n<!-- 22&#45;&gt;24 -->\n<g id=\"edge24\" class=\"edge\">\n<title>22&#45;&gt;24</title>\n<path fill=\"none\" stroke=\"black\" d=\"M655.97,-103.73C660.64,-95.06 665.58,-85.9 670.27,-77.18\"/>\n<polygon fill=\"black\" stroke=\"black\" points=\"673.4,-78.76 675.06,-68.3 667.23,-75.44 673.4,-78.76\"/>\n</g>\n<!-- 27 -->\n<g id=\"node28\" class=\"node\">\n<title>27</title>\n<path fill=\"#399de5\" stroke=\"black\" d=\"M936.5,-298.5C936.5,-298.5 865.5,-298.5 865.5,-298.5 859.5,-298.5 853.5,-292.5 853.5,-286.5 853.5,-286.5 853.5,-242.5 853.5,-242.5 853.5,-236.5 859.5,-230.5 865.5,-230.5 865.5,-230.5 936.5,-230.5 936.5,-230.5 942.5,-230.5 948.5,-236.5 948.5,-242.5 948.5,-242.5 948.5,-286.5 948.5,-286.5 948.5,-292.5 942.5,-298.5 936.5,-298.5\"/>\n<text text-anchor=\"start\" x=\"873\" y=\"-283.3\" font-family=\"Helvetica,sans-Serif\" font-size=\"14.00\">gini = 0.0</text>\n<text text-anchor=\"start\" x=\"863.5\" y=\"-268.3\" font-family=\"Helvetica,sans-Serif\" font-size=\"14.00\">samples = 1</text>\n<text text-anchor=\"start\" x=\"861.5\" y=\"-253.3\" font-family=\"Helvetica,sans-Serif\" font-size=\"14.00\">value = [0, 1]</text>\n<text text-anchor=\"start\" x=\"873.5\" y=\"-238.3\" font-family=\"Helvetica,sans-Serif\" font-size=\"14.00\">class = 1</text>\n</g>\n<!-- 26&#45;&gt;27 -->\n<g id=\"edge27\" class=\"edge\">\n<title>26&#45;&gt;27</title>\n<path fill=\"none\" stroke=\"black\" d=\"M904.27,-341.91C903.81,-331.2 903.31,-319.62 902.85,-308.78\"/>\n<polygon fill=\"black\" stroke=\"black\" points=\"906.34,-308.51 902.42,-298.67 899.35,-308.81 906.34,-308.51\"/>\n</g>\n<!-- 28 -->\n<g id=\"node29\" class=\"node\">\n<title>28</title>\n<path fill=\"#e6843d\" stroke=\"black\" d=\"M1091.5,-306C1091.5,-306 978.5,-306 978.5,-306 972.5,-306 966.5,-300 966.5,-294 966.5,-294 966.5,-235 966.5,-235 966.5,-229 972.5,-223 978.5,-223 978.5,-223 1091.5,-223 1091.5,-223 1097.5,-223 1103.5,-229 1103.5,-235 1103.5,-235 1103.5,-294 1103.5,-294 1103.5,-300 1097.5,-306 1091.5,-306\"/>\n<text text-anchor=\"start\" x=\"974.5\" y=\"-290.8\" font-family=\"Helvetica,sans-Serif\" font-size=\"14.00\">attribute_23 ≤ 0.987</text>\n<text text-anchor=\"start\" x=\"999.5\" y=\"-275.8\" font-family=\"Helvetica,sans-Serif\" font-size=\"14.00\">gini = 0.039</text>\n<text text-anchor=\"start\" x=\"994\" y=\"-260.8\" font-family=\"Helvetica,sans-Serif\" font-size=\"14.00\">samples = 50</text>\n<text text-anchor=\"start\" x=\"992\" y=\"-245.8\" font-family=\"Helvetica,sans-Serif\" font-size=\"14.00\">value = [49, 1]</text>\n<text text-anchor=\"start\" x=\"1007.5\" y=\"-230.8\" font-family=\"Helvetica,sans-Serif\" font-size=\"14.00\">class = 0</text>\n</g>\n<!-- 26&#45;&gt;28 -->\n<g id=\"edge28\" class=\"edge\">\n<title>26&#45;&gt;28</title>\n<path fill=\"none\" stroke=\"black\" d=\"M950.76,-341.91C961.06,-332.56 972.11,-322.54 982.71,-312.93\"/>\n<polygon fill=\"black\" stroke=\"black\" points=\"985.27,-315.33 990.32,-306.02 980.56,-310.15 985.27,-315.33\"/>\n</g>\n<!-- 29 -->\n<g id=\"node30\" class=\"node\">\n<title>29</title>\n<path fill=\"#e58139\" stroke=\"black\" d=\"M1005,-179.5C1005,-179.5 927,-179.5 927,-179.5 921,-179.5 915,-173.5 915,-167.5 915,-167.5 915,-123.5 915,-123.5 915,-117.5 921,-111.5 927,-111.5 927,-111.5 1005,-111.5 1005,-111.5 1011,-111.5 1017,-117.5 1017,-123.5 1017,-123.5 1017,-167.5 1017,-167.5 1017,-173.5 1011,-179.5 1005,-179.5\"/>\n<text text-anchor=\"start\" x=\"938\" y=\"-164.3\" font-family=\"Helvetica,sans-Serif\" font-size=\"14.00\">gini = 0.0</text>\n<text text-anchor=\"start\" x=\"925\" y=\"-149.3\" font-family=\"Helvetica,sans-Serif\" font-size=\"14.00\">samples = 48</text>\n<text text-anchor=\"start\" x=\"923\" y=\"-134.3\" font-family=\"Helvetica,sans-Serif\" font-size=\"14.00\">value = [48, 0]</text>\n<text text-anchor=\"start\" x=\"938.5\" y=\"-119.3\" font-family=\"Helvetica,sans-Serif\" font-size=\"14.00\">class = 0</text>\n</g>\n<!-- 28&#45;&gt;29 -->\n<g id=\"edge29\" class=\"edge\">\n<title>28&#45;&gt;29</title>\n<path fill=\"none\" stroke=\"black\" d=\"M1011.06,-222.91C1004.49,-211.76 997.35,-199.66 990.73,-188.44\"/>\n<polygon fill=\"black\" stroke=\"black\" points=\"993.65,-186.5 985.56,-179.67 987.63,-190.06 993.65,-186.5\"/>\n</g>\n<!-- 30 -->\n<g id=\"node31\" class=\"node\">\n<title>30</title>\n<path fill=\"#ffffff\" stroke=\"black\" d=\"M1160.5,-187C1160.5,-187 1047.5,-187 1047.5,-187 1041.5,-187 1035.5,-181 1035.5,-175 1035.5,-175 1035.5,-116 1035.5,-116 1035.5,-110 1041.5,-104 1047.5,-104 1047.5,-104 1160.5,-104 1160.5,-104 1166.5,-104 1172.5,-110 1172.5,-116 1172.5,-116 1172.5,-175 1172.5,-175 1172.5,-181 1166.5,-187 1160.5,-187\"/>\n<text text-anchor=\"start\" x=\"1043.5\" y=\"-171.8\" font-family=\"Helvetica,sans-Serif\" font-size=\"14.00\">attribute_44 ≤ 0.178</text>\n<text text-anchor=\"start\" x=\"1076\" y=\"-156.8\" font-family=\"Helvetica,sans-Serif\" font-size=\"14.00\">gini = 0.5</text>\n<text text-anchor=\"start\" x=\"1066.5\" y=\"-141.8\" font-family=\"Helvetica,sans-Serif\" font-size=\"14.00\">samples = 2</text>\n<text text-anchor=\"start\" x=\"1064.5\" y=\"-126.8\" font-family=\"Helvetica,sans-Serif\" font-size=\"14.00\">value = [1, 1]</text>\n<text text-anchor=\"start\" x=\"1076.5\" y=\"-111.8\" font-family=\"Helvetica,sans-Serif\" font-size=\"14.00\">class = 0</text>\n</g>\n<!-- 28&#45;&gt;30 -->\n<g id=\"edge30\" class=\"edge\">\n<title>28&#45;&gt;30</title>\n<path fill=\"none\" stroke=\"black\" d=\"M1058.94,-222.91C1064.08,-214.2 1069.56,-204.9 1074.87,-195.89\"/>\n<polygon fill=\"black\" stroke=\"black\" points=\"1078.04,-197.41 1080.1,-187.02 1072.01,-193.86 1078.04,-197.41\"/>\n</g>\n<!-- 31 -->\n<g id=\"node32\" class=\"node\">\n<title>31</title>\n<path fill=\"#399de5\" stroke=\"black\" d=\"M1082.5,-68C1082.5,-68 1011.5,-68 1011.5,-68 1005.5,-68 999.5,-62 999.5,-56 999.5,-56 999.5,-12 999.5,-12 999.5,-6 1005.5,0 1011.5,0 1011.5,0 1082.5,0 1082.5,0 1088.5,0 1094.5,-6 1094.5,-12 1094.5,-12 1094.5,-56 1094.5,-56 1094.5,-62 1088.5,-68 1082.5,-68\"/>\n<text text-anchor=\"start\" x=\"1019\" y=\"-52.8\" font-family=\"Helvetica,sans-Serif\" font-size=\"14.00\">gini = 0.0</text>\n<text text-anchor=\"start\" x=\"1009.5\" y=\"-37.8\" font-family=\"Helvetica,sans-Serif\" font-size=\"14.00\">samples = 1</text>\n<text text-anchor=\"start\" x=\"1007.5\" y=\"-22.8\" font-family=\"Helvetica,sans-Serif\" font-size=\"14.00\">value = [0, 1]</text>\n<text text-anchor=\"start\" x=\"1019.5\" y=\"-7.8\" font-family=\"Helvetica,sans-Serif\" font-size=\"14.00\">class = 1</text>\n</g>\n<!-- 30&#45;&gt;31 -->\n<g id=\"edge31\" class=\"edge\">\n<title>30&#45;&gt;31</title>\n<path fill=\"none\" stroke=\"black\" d=\"M1082.78,-103.73C1078.26,-95.06 1073.49,-85.9 1068.96,-77.18\"/>\n<polygon fill=\"black\" stroke=\"black\" points=\"1072.06,-75.55 1064.33,-68.3 1065.85,-78.79 1072.06,-75.55\"/>\n</g>\n<!-- 32 -->\n<g id=\"node33\" class=\"node\">\n<title>32</title>\n<path fill=\"#e58139\" stroke=\"black\" d=\"M1195.5,-68C1195.5,-68 1124.5,-68 1124.5,-68 1118.5,-68 1112.5,-62 1112.5,-56 1112.5,-56 1112.5,-12 1112.5,-12 1112.5,-6 1118.5,0 1124.5,0 1124.5,0 1195.5,0 1195.5,0 1201.5,0 1207.5,-6 1207.5,-12 1207.5,-12 1207.5,-56 1207.5,-56 1207.5,-62 1201.5,-68 1195.5,-68\"/>\n<text text-anchor=\"start\" x=\"1132\" y=\"-52.8\" font-family=\"Helvetica,sans-Serif\" font-size=\"14.00\">gini = 0.0</text>\n<text text-anchor=\"start\" x=\"1122.5\" y=\"-37.8\" font-family=\"Helvetica,sans-Serif\" font-size=\"14.00\">samples = 1</text>\n<text text-anchor=\"start\" x=\"1120.5\" y=\"-22.8\" font-family=\"Helvetica,sans-Serif\" font-size=\"14.00\">value = [1, 0]</text>\n<text text-anchor=\"start\" x=\"1132.5\" y=\"-7.8\" font-family=\"Helvetica,sans-Serif\" font-size=\"14.00\">class = 0</text>\n</g>\n<!-- 30&#45;&gt;32 -->\n<g id=\"edge32\" class=\"edge\">\n<title>30&#45;&gt;32</title>\n<path fill=\"none\" stroke=\"black\" d=\"M1124.85,-103.73C1129.24,-95.15 1133.87,-86.09 1138.29,-77.46\"/>\n<polygon fill=\"black\" stroke=\"black\" points=\"1141.53,-78.8 1142.97,-68.3 1135.3,-75.61 1141.53,-78.8\"/>\n</g>\n</g>\n</svg>\n",
            "text/plain": [
              "<graphviz.sources.Source at 0x7bbd43bd2dd0>"
            ]
          },
          "metadata": {},
          "execution_count": 50
        }
      ]
    }
  ]
}